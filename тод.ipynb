{
  "nbformat": 4,
  "nbformat_minor": 0,
  "metadata": {
    "colab": {
      "provenance": []
    },
    "kernelspec": {
      "name": "python3",
      "display_name": "Python 3"
    },
    "language_info": {
      "name": "python"
    }
  },
  "cells": [
    {
      "cell_type": "markdown",
      "source": [
        "Лабораторная работа №1\n",
        "\n",
        "Ермаков ПИ22-3"
      ],
      "metadata": {
        "id": "Xtqm1lZNPw8-"
      }
    },
    {
      "cell_type": "code",
      "execution_count": 183,
      "metadata": {
        "colab": {
          "base_uri": "https://localhost:8080/"
        },
        "id": "0080neAtPmom",
        "outputId": "f0eee99f-db27-4b6c-cd8c-498ebcfc2609"
      },
      "outputs": [
        {
          "output_type": "stream",
          "name": "stdout",
          "text": [
            "[(127244, 60, 16) ( 23891, 25,  7) ( 94746, 10,  6) ( 67660,  5,  6)\n",
            " (157911, 60, 14)]\n"
          ]
        }
      ],
      "source": [
        "## задание 1\n",
        "import numpy as np\n",
        "ing = np.loadtxt('/minutes_n_ingredients.csv', delimiter = ',', skiprows = 1, \n",
        "                dtype = {'names': ['id', 'minutes', 'n_ingredients'],\n",
        "                         'formats' : ['int32', 'int32', 'int32']})\n",
        "print(ing[:5])"
      ]
    },
    {
      "cell_type": "code",
      "source": [
        "#задание 2\n",
        "max_minutes = ing['minutes'].max()\n",
        "max_n_ingredients = ing['n_ingredients'].max()\n",
        "min_minutes = ing['minutes'].min()\n",
        "min_n_ingredients = ing['n_ingredients'].min()\n",
        "av_minutes = round(ing['minutes'].sum()/ing.shape[0], 2)\n",
        "av_n_ingredients = ing['n_ingredients'].sum()/ing.shape[0]\n",
        "med_minutes = np.median(ing['minutes'])\n",
        "med_n_ingredients = np.median(ing['n_ingredients'])\n",
        "print(f'Время: \\n\\tМаксимальное: {max_minutes} минут\\n\\tМинимальное: {min_minutes} минут\\n\\tСреднее: {av_minutes} минут\\n\\tМедиана: {med_minutes}')\n",
        "print(f'Количество ингредиентов: \\n\\tМаксимальное: {max_n_ingredients}\\n\\tМинимальное: {min_n_ingredients}\\n\\tСреднее: {av_n_ingredients}\\n\\tМедиана: {med_n_ingredients}')"
      ],
      "metadata": {
        "colab": {
          "base_uri": "https://localhost:8080/"
        },
        "id": "iW92BDDuaf-z",
        "outputId": "49085ee7-043f-40bb-da2d-5d126aad25fe"
      },
      "execution_count": 184,
      "outputs": [
        {
          "output_type": "stream",
          "name": "stdout",
          "text": [
            "Время: \n",
            "\tМаксимальное: 2147483647 минут\n",
            "\tМинимальное: 0 минут\n",
            "\tСреднее: 21601.0 минут\n",
            "\tМедиана: 40.0\n",
            "Количество ингредиентов: \n",
            "\tМаксимальное: 39\n",
            "\tМинимальное: 1\n",
            "\tСреднее: 9.05528\n",
            "\tМедиана: 9.0\n"
          ]
        }
      ]
    },
    {
      "cell_type": "code",
      "source": [
        "## задание 3\n",
        "q075 = np.quantile(ing['minutes'], 0.75)\n",
        "ing['minutes'] = np.clip(ing['minutes'], 0, q075)\n",
        "print('Значение времени ограничено квантилем 0,75',ing)"
      ],
      "metadata": {
        "colab": {
          "base_uri": "https://localhost:8080/"
        },
        "id": "S40c7sYUeTWF",
        "outputId": "0f1d0dbc-077b-44be-a441-300b2737f927"
      },
      "execution_count": 185,
      "outputs": [
        {
          "output_type": "stream",
          "name": "stdout",
          "text": [
            "Значение времени ограничено квантилем 0,75 [(127244, 60, 16) ( 23891, 25,  7) ( 94746, 10,  6) ... (498432, 65, 15)\n",
            " (370915,  5,  4) ( 81993, 65, 14)]\n"
          ]
        }
      ]
    },
    {
      "cell_type": "code",
      "source": [
        "##задание 4\n",
        "num_zero = (ing['minutes'] == 0).sum()\n",
        "ing['minutes'] = np.clip(ing['minutes'], 1, None)\n",
        "print(f'Количество нулей: {num_zero}, все заменены на единицы')"
      ],
      "metadata": {
        "colab": {
          "base_uri": "https://localhost:8080/"
        },
        "id": "Kg6Jc7c6BpsK",
        "outputId": "0430f2af-f16f-492b-de5a-64d15cf22315"
      },
      "execution_count": 186,
      "outputs": [
        {
          "output_type": "stream",
          "name": "stdout",
          "text": [
            "Количество нулей: 479, все заменены на единицы\n"
          ]
        }
      ]
    },
    {
      "cell_type": "code",
      "source": [
        "## задание 5\n",
        "## уникальный рецепт - уникальный набор из времени и кол-ва ингредиентов\n",
        "a = np.stack((ing['minutes'], ing['n_ingredients']), axis=1)\n",
        "uniq = np.unique(a, axis=0)\n",
        "print(f'Количесво уникальных рецептов: {uniq.shape[0]}')"
      ],
      "metadata": {
        "colab": {
          "base_uri": "https://localhost:8080/"
        },
        "id": "oUbiNZYLDpOz",
        "outputId": "db49011e-6b62-490f-e7ad-7866434190c9"
      },
      "execution_count": 8,
      "outputs": [
        {
          "output_type": "stream",
          "name": "stdout",
          "text": [
            "Количесво уникальных рецептов: 1135\n"
          ]
        }
      ]
    },
    {
      "cell_type": "code",
      "source": [
        "## задание 6\n",
        "unique, counts = np.unique(ing['n_ingredients'], return_counts=True)\n",
        "print('Все уникальные значения кол-ва ингредиентов и их количество:','\\n', dict(zip(unique, counts)))"
      ],
      "metadata": {
        "colab": {
          "base_uri": "https://localhost:8080/"
        },
        "id": "O4vZ8U4eMhnt",
        "outputId": "1059814d-12e9-48d7-f96f-ccdc1cad4398"
      },
      "execution_count": 13,
      "outputs": [
        {
          "output_type": "stream",
          "name": "stdout",
          "text": [
            "Все уникальные значения кол-ва ингредиентов и их количество: \n",
            " {1: 13, 2: 926, 3: 2895, 4: 5515, 5: 7913, 6: 9376, 7: 10628, 8: 10951, 9: 10585, 10: 9591, 11: 8297, 12: 6605, 13: 4997, 14: 3663, 15: 2595, 16: 1767, 17: 1246, 18: 790, 19: 573, 20: 376, 21: 217, 22: 161, 23: 105, 24: 69, 25: 50, 26: 28, 27: 16, 28: 16, 29: 12, 30: 12, 31: 3, 32: 1, 33: 2, 34: 1, 35: 3, 37: 1, 39: 1}\n"
          ]
        }
      ]
    },
    {
      "cell_type": "code",
      "source": [
        "## задание 7\n",
        "cond = np.where(ing['n_ingredients'] <= 5)\n",
        "ing_new = ing[cond]\n",
        "print('Рецепты с кол-вом ингредиентов не более 5:', '\\n', ing_new)"
      ],
      "metadata": {
        "colab": {
          "base_uri": "https://localhost:8080/"
        },
        "id": "2xzj5sbbMzB_",
        "outputId": "70599513-4c87-43c9-a155-8b7d8e3a96aa"
      },
      "execution_count": 15,
      "outputs": [
        {
          "output_type": "stream",
          "name": "stdout",
          "text": [
            "Рецепты с кол-вом ингредиентов не более 5: \n",
            " [(446597, 15, 5) (204134,  5, 3) ( 25623,  6, 4) ... ( 52088, 60, 5)\n",
            " (128811, 15, 4) (370915,  5, 4)]\n"
          ]
        }
      ]
    },
    {
      "cell_type": "code",
      "source": [
        "## задание 8\n",
        "ing_per_min = ing['minutes']/ing['n_ingredients']\n",
        "print('Максимальное количество ингредиентов в минуту:',ing_per_min.max())"
      ],
      "metadata": {
        "colab": {
          "base_uri": "https://localhost:8080/"
        },
        "id": "Vms7BOktRUNI",
        "outputId": "47807fd3-f651-4705-af5d-b111d8f83efb"
      },
      "execution_count": 17,
      "outputs": [
        {
          "output_type": "stream",
          "name": "stdout",
          "text": [
            "Максимальное количество ингредиентов в минуту: 65.0\n"
          ]
        }
      ]
    },
    {
      "cell_type": "code",
      "source": [
        "####задание 9\n",
        "top = np.sort(ing, order = 'minutes')[::-1]\n",
        "top = top['n_ingredients'][:100].sum()/100\n",
        "print('Среднее количество ингредиентов в топ-100 по продолжительности рецептах:', top)"
      ],
      "metadata": {
        "colab": {
          "base_uri": "https://localhost:8080/"
        },
        "id": "CEizLlfriH18",
        "outputId": "e241ddcb-baf3-4a49-dd73-9b895b67c255"
      },
      "execution_count": 18,
      "outputs": [
        {
          "output_type": "stream",
          "name": "stdout",
          "text": [
            "Среднее количество ингредиентов в топ-100 по продолжительности рецептах: 13.11\n"
          ]
        }
      ]
    },
    {
      "cell_type": "code",
      "source": [
        "###задание 10\n",
        "print('10 рандомных рецептов', '\\n', ing[np.random.randint(0, ing.shape[0], size = 10)])"
      ],
      "metadata": {
        "colab": {
          "base_uri": "https://localhost:8080/"
        },
        "id": "SXZyWWl0jZMs",
        "outputId": "d1227c36-890f-4ebe-d840-c2b1bdb5f48a"
      },
      "execution_count": 20,
      "outputs": [
        {
          "output_type": "stream",
          "name": "stdout",
          "text": [
            "10 рандомных рецептов \n",
            " [(347481,  5,  4) (228958,  5,  8) (220525, 65, 10) (175139, 55,  7)\n",
            " (415373, 25, 10) (391531, 15,  6) (302269, 65,  4) ( 33604, 65,  9)\n",
            " (  8370, 40,  9) (444672, 65, 14)]\n"
          ]
        }
      ]
    },
    {
      "cell_type": "code",
      "source": [
        "###задание 11\n",
        "less = np.where(ing['n_ingredients'] < av_n_ingredients)\n",
        "percent = int(round(ing[less].shape[0] / ing.shape[0], 2)*100)\n",
        "print(percent, '%')"
      ],
      "metadata": {
        "colab": {
          "base_uri": "https://localhost:8080/"
        },
        "id": "FZLc4-jtwNXN",
        "outputId": "bfbe635d-8fbe-4d06-9fd8-004f4f244fcc"
      },
      "execution_count": 30,
      "outputs": [
        {
          "output_type": "stream",
          "name": "stdout",
          "text": [
            "59 %\n"
          ]
        }
      ]
    },
    {
      "cell_type": "code",
      "source": [
        "## задание 12\n",
        "cond1 = np.where(ing_new[:, 1] <= 20)\n",
        "cond2 = np.where(ing_new[:, 2] <= 5)\n",
        "ing_new = np.c_[ing['id'], ing['minutes']]\n",
        "z_arr = np.zeros(100000)\n",
        "ing_new = np.c_[ing_new, ing['n_ingredients']]\n",
        "ing_new = np.c_[ing_new, z_arr].astype(int)\n",
        "## сымитировал копию(3-6 строчки) чтобы избежать конфликта типов данных, \n",
        "## дальше определил столбики, подходящие\n",
        "## под 1е, потом под 2е условия и соединил их\n",
        "ing_new1 = ing_new.copy()\n",
        "ing_new2 = ing_new.copy()\n",
        "ing_new1[cond1, 3] = 1\n",
        "ing_new2[cond2, 3] = 1\n",
        "ing_new[:,3] = ing_new1[:, 3]*ing_new2[:, 3]\n",
        "print(ing_new[:50])"
      ],
      "metadata": {
        "colab": {
          "base_uri": "https://localhost:8080/"
        },
        "id": "iV9FBaBNx7C1",
        "outputId": "0a138e94-2013-49f8-8850-1e780aefd3ea"
      },
      "execution_count": 111,
      "outputs": [
        {
          "output_type": "stream",
          "name": "stdout",
          "text": [
            "[[127244     60     16      0]\n",
            " [ 23891     25      7      0]\n",
            " [ 94746     10      6      0]\n",
            " [ 67660      5      6      0]\n",
            " [157911     60     14      0]\n",
            " [152828     40      7      0]\n",
            " [ 33941     18      9      0]\n",
            " [446597     15      5      1]\n",
            " [366174      7      9      0]\n",
            " [ 74205     20      7      0]\n",
            " [504666     65     20      0]\n",
            " [ 81006     12      7      0]\n",
            " [280968     65     11      0]\n",
            " [204134      5      3      1]\n",
            " [ 18593     35      7      0]\n",
            " [ 25623      6      4      1]\n",
            " [ 65559     24     14      0]\n",
            " [ 99836     65      7      0]\n",
            " [ 87775     65     13      0]\n",
            " [425704     40     12      0]\n",
            " [101799     10      8      0]\n",
            " [106325     65     11      0]\n",
            " [ 99283     65      6      0]\n",
            " [179504     65     11      0]\n",
            " [276123     60      7      0]\n",
            " [498382     65     18      0]\n",
            " [197140     40      6      0]\n",
            " [484223     18      4      1]\n",
            " [385472     65      9      0]\n",
            " [ 63150     65      4      0]\n",
            " [378114     20     11      0]\n",
            " [318295     65      7      0]\n",
            " [259784     65      9      0]\n",
            " [308301     65     11      0]\n",
            " [422795     30      7      0]\n",
            " [104773     65     11      0]\n",
            " [114103     65     11      0]\n",
            " [496430     40     10      0]\n",
            " [160325     45      7      0]\n",
            " [328135     15      6      0]\n",
            " [ 69317     10      8      0]\n",
            " [ 70453     25      4      0]\n",
            " [ 52233     25      8      0]\n",
            " [ 63368     55      8      0]\n",
            " [ 66842      2      4      1]\n",
            " [337928     55      4      0]\n",
            " [ 95046     15      6      0]\n",
            " [140245      5      5      1]\n",
            " [299022     25      6      0]\n",
            " [292204     20      8      0]]\n"
          ]
        }
      ]
    },
    {
      "cell_type": "code",
      "source": [
        "## задание 13\n",
        "print((ing_new[:, 3].sum()/ing.shape[0])*100, '%')"
      ],
      "metadata": {
        "colab": {
          "base_uri": "https://localhost:8080/"
        },
        "id": "naI1BoPPhuzH",
        "outputId": "6ff40dbe-ade1-431d-8489-0c003c15c080"
      },
      "execution_count": 94,
      "outputs": [
        {
          "output_type": "stream",
          "name": "stdout",
          "text": [
            "9.552 %\n"
          ]
        }
      ]
    },
    {
      "cell_type": "code",
      "source": [
        "## задание 14\n",
        "ing_cube = np.c_[ing_new, np.zeros(100000)].astype(int)\n",
        "short = np.where(ing_cube[:, 1] <= 10)\n",
        "long = np.where(ing_cube[:, 1] > 20)\n",
        "ing_cube[short, 4] = 1\n",
        "ing_cube[long, 4] = 3\n",
        "ing_cube[np.where(ing_cube[:, 4] == 0), 4] = 2\n",
        "# short = 1\n",
        "# normal = 2\n",
        "# long = 3\n",
        "unique, counts = np.unique(ing_cube[:, 4], return_counts=True)\n",
        "print(dict(zip(unique, counts)))\n",
        "number = min(counts)\n",
        "print(number)  #12466\n",
        "# значит, будет куб 3*12466*3\n",
        "cube_dim1 = ing_cube[np.where(ing_cube[:, 4] == 1), :3][0]\n",
        "cube_dim2 = ing_cube[np.where(ing_cube[:, 4] == 2), :3][0]\n",
        "cube_dim3 = ing_cube[np.where(ing_cube[:, 4] == 3), :3][0]\n",
        "cube_dim1 = cube_dim1[:12466]\n",
        "cube_dim2 = cube_dim2[:12466]\n",
        "cube_dim3 = cube_dim3[:12466]\n",
        "## разделил массивы по сложности, обрезал по самому короткому\n",
        "cube = np.zeros((3, 12466, 3), dtype='int')\n",
        "cube[0] = cube_dim1\n",
        "cube[1] = cube_dim2\n",
        "cube[2] = cube_dim3\n",
        "print(cube)"
      ],
      "metadata": {
        "colab": {
          "base_uri": "https://localhost:8080/"
        },
        "id": "MBh5YrxUiGM3",
        "outputId": "49750ad5-5e72-420f-ddd1-901f58efbf26"
      },
      "execution_count": 181,
      "outputs": [
        {
          "output_type": "stream",
          "name": "stdout",
          "text": [
            "{1: 12466, 2: 14184, 3: 73350}\n",
            "12466\n",
            "[[[ 94746     10      6]\n",
            "  [ 67660      5      6]\n",
            "  [366174      7      9]\n",
            "  ...\n",
            "  [420725      5      3]\n",
            "  [  4747      0      9]\n",
            "  [370915      5      4]]\n",
            "\n",
            " [[ 33941     18      9]\n",
            "  [446597     15      5]\n",
            "  [ 74205     20      7]\n",
            "  ...\n",
            "  [230115     20      7]\n",
            "  [496131     20      9]\n",
            "  [365818     20      6]]\n",
            "\n",
            " [[127244     60     16]\n",
            "  [ 23891     25      7]\n",
            "  [157911     60     14]\n",
            "  ...\n",
            "  [ 68428     65     10]\n",
            "  [312995     65      7]\n",
            "  [ 93651     65     12]]]\n"
          ]
        }
      ]
    }
  ]
}